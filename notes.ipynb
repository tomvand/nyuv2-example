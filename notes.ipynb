{
 "metadata": {
  "language_info": {
   "codemirror_mode": {
    "name": "ipython",
    "version": 3
   },
   "file_extension": ".py",
   "mimetype": "text/x-python",
   "name": "python",
   "nbconvert_exporter": "python",
   "pygments_lexer": "ipython3",
   "version": 3
  },
  "orig_nbformat": 2
 },
 "nbformat": 4,
 "nbformat_minor": 2,
 "cells": [
  {
   "source": [
    "NYU v2\n",
    "======\n",
    "\n",
    "https://cs.nyu.edu/~silberman/datasets/nyu_depth_v2.html\n",
    "\n",
    "\n",
    "Downloads\n",
    "=========\n",
    "\n",
    "Labeled dataset: http://horatio.cs.nyu.edu/mit/silberman/nyu_depth_v2/nyu_depth_v2_labeled.mat\n",
    "    - MAT file. Variables: see web page for description.\n",
    "        - images: HxWx3xN matrix\n",
    "        - scenes: Nx1 array, name of scene in which image N is taken\n",
    "        - sceneTypes: Nx1 type of scene\n",
    "        - rawDepths: HxWxN. Depths in m reprojected onto RGB image\n",
    "            - depths: HxWxN. Inpainted depths\n",
    "\n",
    "Raw dataset: https://cs.nyu.edu/~silberman/datasets/nyu_depth_v2.html#raw_parts\n",
    "    - Extremely large\n",
    "    - Not post-processed (e.g. RGB and Depth synchronization)\n",
    "\n",
    "Toolbox: http://cs.nyu.edu/~silberman/code/toolbox_nyu_depth_v2.zip\n",
    "    - `camera_params.m`: Kinect camera parameters\n",
    "    - `get_synched_frames.m`: only for raw dataset, I hope?\n",
    "\n",
    "\n",
    "Download and installation\n",
    "=========================\n",
    "\n",
    "Setup script provided, run:"
   ],
   "cell_type": "markdown",
   "metadata": {}
  },
  {
   "cell_type": "code",
   "execution_count": null,
   "metadata": {},
   "outputs": [],
   "source": [
    "%%bash\n",
    "make all"
   ]
  }
 ]
}